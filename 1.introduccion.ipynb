{
 "cells": [
  {
   "cell_type": "code",
   "execution_count": 8,
   "id": "f70fb114",
   "metadata": {},
   "outputs": [],
   "source": [
    "#if(validacion){\n",
    "#    sys\n",
    "#}"
   ]
  },
  {
   "cell_type": "code",
   "execution_count": 9,
   "id": "585248b4",
   "metadata": {},
   "outputs": [
    {
     "name": "stdout",
     "output_type": "stream",
     "text": [
      "Hola mundo\n"
     ]
    }
   ],
   "source": [
    "print(\"Hola mundo\")"
   ]
  },
  {
   "cell_type": "code",
   "execution_count": 10,
   "id": "990dfda3",
   "metadata": {},
   "outputs": [
    {
     "name": "stdout",
     "output_type": "stream",
     "text": [
      "Hola\n",
      "salida\n"
     ]
    }
   ],
   "source": [
    "if True : \n",
    "    print(\"Hola\")\n",
    "    x = 40\n",
    "print(\"salida\")"
   ]
  },
  {
   "cell_type": "code",
   "execution_count": 11,
   "id": "6bbf170c",
   "metadata": {},
   "outputs": [
    {
     "data": {
      "text/plain": [
       "' Comentario docstring'"
      ]
     },
     "execution_count": 11,
     "metadata": {},
     "output_type": "execute_result"
    }
   ],
   "source": [
    "# Comentario\n",
    "\"\"\" Comentario docstring\"\"\""
   ]
  },
  {
   "cell_type": "markdown",
   "id": "97c3fb74",
   "metadata": {},
   "source": [
    "# PEP 8 – Guía de estilo para código Python \n",
    "https://peps.python.org/pep-0008/"
   ]
  },
  {
   "cell_type": "markdown",
   "id": "f30e05c5",
   "metadata": {},
   "source": []
  },
  {
   "cell_type": "code",
   "execution_count": 12,
   "id": "379cab30",
   "metadata": {},
   "outputs": [
    {
     "name": "stdout",
     "output_type": "stream",
     "text": [
      "hazlocondatos\n"
     ]
    }
   ],
   "source": [
    "# Variables\n",
    "var1 = \"\"\n",
    "var2 = 1\n",
    "var3 = \"hazlocondatos\"\n",
    "\n",
    "print(var3)"
   ]
  },
  {
   "cell_type": "code",
   "execution_count": 13,
   "id": "0a04a126",
   "metadata": {},
   "outputs": [
    {
     "name": "stdout",
     "output_type": "stream",
     "text": [
      "<class 'str'>\n"
     ]
    }
   ],
   "source": [
    "print(type(var3))  # para conocer tipo de dato de variable"
   ]
  },
  {
   "cell_type": "code",
   "execution_count": 14,
   "id": "b94fdf1f",
   "metadata": {},
   "outputs": [
    {
     "name": "stdout",
     "output_type": "stream",
     "text": [
      "manzana\n",
      "platano\n",
      "sandia\n"
     ]
    }
   ],
   "source": [
    "x,y,z = \"manzana\", \"platano\", \"sandia\" \n",
    "\n",
    "print(x)\n",
    "print(y)\n",
    "print(z)"
   ]
  },
  {
   "cell_type": "markdown",
   "id": "e3ea7f46",
   "metadata": {},
   "source": [
    "# Listas \n",
    "Son uno de los tipos de datos más versátiles e importantes en Python, colecciones ordenadas \n",
    "y mutables (modificables) de elementos."
   ]
  },
  {
   "cell_type": "code",
   "execution_count": 15,
   "id": "0930b57e",
   "metadata": {},
   "outputs": [
    {
     "name": "stdout",
     "output_type": "stream",
     "text": [
      "[3, 'manzana', [1, 5, 'platano']]\n"
     ]
    }
   ],
   "source": [
    "# Listas\n",
    "lista1 = [] #lista vacia\n",
    "lista2 = [3, 5, 5]\n",
    "lista3 = [\"manzana\", \"platano\"]\n",
    "lista4 = [3, \"manzana\", 3.4]\n",
    "lista5 = [3, \"manzana\", [1, 5, \"platano\"]]\n",
    "\n",
    "print(lista5)"
   ]
  },
  {
   "cell_type": "code",
   "execution_count": 16,
   "id": "695f922d",
   "metadata": {},
   "outputs": [
    {
     "name": "stdout",
     "output_type": "stream",
     "text": [
      "[1, 5, 'platano']\n"
     ]
    }
   ],
   "source": [
    "# Operador indice []\n",
    "# Los indices de las listas inician en 0, no en 1, en la lista 5, el elemneto manzana el indice es 1. \n",
    "\n",
    "print(lista5[2])"
   ]
  },
  {
   "cell_type": "code",
   "execution_count": 17,
   "id": "cc732247",
   "metadata": {},
   "outputs": [
    {
     "name": "stdout",
     "output_type": "stream",
     "text": [
      "platano\n"
     ]
    }
   ],
   "source": [
    "print(lista5[2][2]) # para obtener platano de la lista 5, "
   ]
  },
  {
   "cell_type": "code",
   "execution_count": 18,
   "id": "ae6c8873",
   "metadata": {},
   "outputs": [
    {
     "name": "stdout",
     "output_type": "stream",
     "text": [
      "[1, 5, 'platano']\n"
     ]
    }
   ],
   "source": [
    "print(lista5[-1]) # para obtener el ultimo elemento de la lista"
   ]
  },
  {
   "cell_type": "code",
   "execution_count": 19,
   "id": "2d22b811",
   "metadata": {},
   "outputs": [
    {
     "name": "stdout",
     "output_type": "stream",
     "text": [
      "manzana\n"
     ]
    }
   ],
   "source": [
    "print(lista5[-2]) # para obtener el penultimo elemento de la lista"
   ]
  },
  {
   "cell_type": "code",
   "execution_count": 20,
   "id": "2d4529b6",
   "metadata": {},
   "outputs": [
    {
     "name": "stdout",
     "output_type": "stream",
     "text": [
      "[3, 4, 5]\n"
     ]
    }
   ],
   "source": [
    "lista6 = [1,2,3,4,5,6,7,8,9] # los indices van del 0 al 8\n",
    "\n",
    "print(lista6[2:5]) # obtener un rango de indices del 2 al 5"
   ]
  },
  {
   "cell_type": "code",
   "execution_count": 21,
   "id": "1327a3a2",
   "metadata": {},
   "outputs": [
    {
     "name": "stdout",
     "output_type": "stream",
     "text": [
      "[6, 7, 8, 9]\n"
     ]
    }
   ],
   "source": [
    "print(lista6[5:])  # para obtener los indices del rango 5 en adelante,"
   ]
  },
  {
   "cell_type": "code",
   "execution_count": 22,
   "id": "a15af4d4",
   "metadata": {},
   "outputs": [
    {
     "name": "stdout",
     "output_type": "stream",
     "text": [
      "[1, 2, 3, 4, 10, 6, 7, 8, 9]\n"
     ]
    }
   ],
   "source": [
    "# Modificar o cambiar un elemento de una lista\n",
    "lista6[4] = 10  # el ejemplo es que el numero 5 se cambie por 10, y se usa 4, por que es el indice que le corresponde\n",
    "\n",
    "print(lista6)"
   ]
  },
  {
   "cell_type": "code",
   "execution_count": 23,
   "id": "b943ca51",
   "metadata": {},
   "outputs": [
    {
     "name": "stdout",
     "output_type": "stream",
     "text": [
      "[1, 2, 3, 4, 10, 6, 7, 8, 9, 11]\n"
     ]
    }
   ],
   "source": [
    "# Agregar elementos a una lista con append\n",
    "lista6.append(11)\n",
    "print(lista6)"
   ]
  },
  {
   "cell_type": "code",
   "execution_count": 24,
   "id": "dbdf9608",
   "metadata": {},
   "outputs": [],
   "source": [
    "lista_aux = [12,13,14]"
   ]
  },
  {
   "cell_type": "code",
   "execution_count": 25,
   "id": "32252724",
   "metadata": {},
   "outputs": [
    {
     "name": "stdout",
     "output_type": "stream",
     "text": [
      "[1, 2, 3, 4, 10, 6, 7, 8, 9, 11, [12, 13, 14]]\n"
     ]
    }
   ],
   "source": [
    "lista6.append(lista_aux)  # agrega otra lista como un elemento a una lista previa\n",
    "print(lista6)"
   ]
  },
  {
   "cell_type": "code",
   "execution_count": 26,
   "id": "eeeca1db",
   "metadata": {},
   "outputs": [
    {
     "name": "stdout",
     "output_type": "stream",
     "text": [
      "[1, 2, 3, 4, 10, 6, 7, 8, 9, 11, [12, 13, 14], 12, 13, 14]\n"
     ]
    }
   ],
   "source": [
    "lista6.extend(lista_aux)\n",
    "print(lista6)"
   ]
  },
  {
   "cell_type": "code",
   "execution_count": 27,
   "id": "e70a9075",
   "metadata": {},
   "outputs": [],
   "source": [
    "# Eliminar elementos dentro de una lista\n",
    "lista6.remove([12, 13, 14])"
   ]
  },
  {
   "cell_type": "code",
   "execution_count": 28,
   "id": "8813df17",
   "metadata": {},
   "outputs": [
    {
     "name": "stdout",
     "output_type": "stream",
     "text": [
      "[1, 2, 3, 4, 10, 6, 7, 8, 9, 11, 12, 13, 14]\n"
     ]
    }
   ],
   "source": [
    "print(lista6)"
   ]
  },
  {
   "cell_type": "markdown",
   "id": "19f478c8",
   "metadata": {},
   "source": [
    "# Tuplas\n",
    "Una tupla es una colección ordenada e inmutable de elementos.\n",
    "*  Ordenada (Ordered): Significa que los elementos tienen un orden definido, y ese orden no cambiará. Puedes acceder a  los elementos usando índices.\n",
    "* Inmutable (Immutable): Es la característica más importante. Una vez que se crea una tupla, no se pueden cambiar,  agregar ni eliminar elementos.\n",
    "*   Permite Duplicados: Las tuplas pueden contener elementos con valores duplicados.\n",
    "*   Heterogéneas: Pueden contener elementos de diferentes tipos de datos (enteros, cadenas, listas, otras tuplas, etc.).\n"
   ]
  },
  {
   "cell_type": "code",
   "execution_count": 31,
   "id": "5ad0e67f",
   "metadata": {},
   "outputs": [],
   "source": [
    "tupla = ()\n",
    "\n",
    "tupla1 = (3,4,5)\n",
    "\n",
    "tupla2 = (1,3, \"manzana\")\n",
    "\n",
    "tupla3 = (\"manzana\", 2,3,(3,4,5))\n"
   ]
  },
  {
   "cell_type": "code",
   "execution_count": 32,
   "id": "9ed9183e",
   "metadata": {},
   "outputs": [
    {
     "name": "stdout",
     "output_type": "stream",
     "text": [
      "manzana\n"
     ]
    }
   ],
   "source": [
    "print(tupla3[0])"
   ]
  },
  {
   "cell_type": "markdown",
   "id": "2ca161f8",
   "metadata": {},
   "source": [
    "# Diccionarios\n",
    "Un diccionario es una colección ordenada , mutable y que no permite claves duplicadas.\n",
    "*   Pares Clave-Valor: Esta es su característica definitoria. Cada elemento del diccionario consta de una clave (que debe ser única) y un valor asociado.\n",
    "**  La clave actúa como un identificador o índice. Debe ser de un tipo inmutable (como cadenas, números o tuplas).\n",
    "**  El valor es el dato real que se almacena y puede ser de cualquier tipo de dato (cadenas, números, listas, otras tuplas, o incluso otros diccionarios).\n",
    "*   Mutable: Significa que puedes cambiar, agregar o eliminar pares de clave-valor después de que el diccionario ha sido creado.\n",
    "*   Ordenada: los diccionarios mantienen el orden en que se insertaron los pares.\n",
    "*   Acceso por Clave: A diferencia de las listas y tuplas que se acceden por índices numéricos, los diccionarios se acceden directamente a través de su clave.\n"
   ]
  },
  {
   "cell_type": "markdown",
   "id": "8e8ea4f9",
   "metadata": {},
   "source": [
    "# Sintaxis y Creación\n",
    "Los diccionarios se escriben utilizando llaves {} y separando la clave del valor con dos puntos : y los pares con comas ,."
   ]
  },
  {
   "cell_type": "markdown",
   "id": "e92c7f95",
   "metadata": {},
   "source": []
  },
  {
   "cell_type": "code",
   "execution_count": 36,
   "id": "61118d18",
   "metadata": {},
   "outputs": [],
   "source": [
    "diccionario = {}\n",
    "\n",
    "diccionario1 = {\n",
    "    1:\"manzana\", 2: \"balon\"\n",
    "}\n",
    "\n",
    "diccionario2 = {\n",
    "    \"nombre\": \"juan\", 1: [1,2,3,4]\n",
    "}\n",
    "\n",
    "diccionario3 = {\n",
    "    \"nombre\": \"juan\", \"edad\": 24, \"telefono\": 12345678\n",
    "}"
   ]
  },
  {
   "cell_type": "code",
   "execution_count": 37,
   "id": "a4263670",
   "metadata": {},
   "outputs": [
    {
     "name": "stdout",
     "output_type": "stream",
     "text": [
      "juan\n"
     ]
    }
   ],
   "source": [
    "print(diccionario3[\"nombre\"])"
   ]
  },
  {
   "cell_type": "code",
   "execution_count": 40,
   "id": "e26f25d5",
   "metadata": {},
   "outputs": [
    {
     "name": "stdout",
     "output_type": "stream",
     "text": [
      "None\n"
     ]
    }
   ],
   "source": [
    "print(diccionario3.get('direccion'))"
   ]
  },
  {
   "cell_type": "code",
   "execution_count": 42,
   "id": "608754df",
   "metadata": {},
   "outputs": [],
   "source": [
    "diccionario3['direccion'] = 'calle lima'"
   ]
  },
  {
   "cell_type": "markdown",
   "id": "c1f0e0b2",
   "metadata": {},
   "source": [
    "# Control de Flujos\n",
    "se refiere a las estructuras de programación que permiten cambiar la secuencia normal de ejecución de un programa. En esencia, le dicen al programa qué líneas de código debe ejecutar, en qué orden y bajo qué condiciones. \n",
    "\n",
    "## 1. Estructuras Condicionales (if/elif/else)\n",
    "Estas estructuras permiten que el programa tome decisiones y ejecute un bloque de código solo si se cumple una condición específica.\n"
   ]
  },
  {
   "cell_type": "markdown",
   "id": "5489507a",
   "metadata": {},
   "source": [
    "Palabra Clave\tPropósito\n",
    "*   if\tEjecuta el bloque de código si la condición es Verdadera (True).\n",
    "*   elif\tSignifica \"else if\". Verifica una condición adicional si la condición del if anterior (y todos los elif previos) fue Falsa. Puedes usar tantos elif como necesites.\n",
    "*   else\tEjecuta un bloque de código si ninguna de las condiciones (if o elif) anteriores fue Verdadera. Es opcional."
   ]
  },
  {
   "cell_type": "markdown",
   "metadata": {},
   "source": []
  },
  {
   "cell_type": "code",
   "execution_count": 44,
   "id": "67291fc3",
   "metadata": {},
   "outputs": [
    {
     "data": {
      "text/plain": [
       "\"if condicion:  # si cumple una condicion ejecuta verdadero, \\n    print('True')\\nelse:           # si la condicion es falsa\\n    print('false')\""
      ]
     },
     "execution_count": 44,
     "metadata": {},
     "output_type": "execute_result"
    }
   ],
   "source": [
    "\"\"\"if condicion:  # si cumple una condicion ejecuta verdadero, \n",
    "    print('True')\n",
    "else:           # si la condicion es falsa\n",
    "    print('false')\"\"\""
   ]
  },
  {
   "cell_type": "code",
   "execution_count": 46,
   "id": "91ebc242",
   "metadata": {},
   "outputs": [
    {
     "name": "stdout",
     "output_type": "stream",
     "text": [
      "True\n"
     ]
    }
   ],
   "source": [
    "var1 = 10\n",
    "if var1 <11:\n",
    "    print('True')  #si 10 es menor a 11, ejecuta codigo, de lo contrario else\n",
    "else:      \n",
    "    print('false')  "
   ]
  },
  {
   "cell_type": "code",
   "execution_count": 48,
   "id": "5b05ad06",
   "metadata": {},
   "outputs": [
    {
     "name": "stdout",
     "output_type": "stream",
     "text": [
      "True\n",
      "mayor a 8\n"
     ]
    }
   ],
   "source": [
    "if var1 <11:\n",
    "    print('True')  \n",
    "    if var1 > 8:\n",
    "        print('mayor a 8')\n",
    "else:      \n",
    "    print('false')  "
   ]
  },
  {
   "cell_type": "markdown",
   "id": "d4b5a5ec",
   "metadata": {},
   "source": [
    "# 2. Estructuras de Bucle o Iteración (for y while)\n",
    "Estas estructuras se utilizan para repetir un bloque de código múltiples veces.\n",
    "for (Bucle por Iteración)\n",
    "El bucle for se usa típicamente para iterar sobre una secuencia (como una lista, tupla, cadena o diccionario) o un rango de números. Ejecuta el bloque de código una vez por cada elemento de la secuencia.\n"
   ]
  },
  {
   "cell_type": "code",
   "execution_count": 49,
   "id": "73b73695",
   "metadata": {},
   "outputs": [
    {
     "name": "stdout",
     "output_type": "stream",
     "text": [
      "[1, 2, 3, 4, 10, 6, 7, 8, 9, 11, 12, 13, 14]\n"
     ]
    }
   ],
   "source": [
    "print(lista6)"
   ]
  },
  {
   "cell_type": "code",
   "execution_count": 54,
   "id": "7b507e65",
   "metadata": {},
   "outputs": [
    {
     "name": "stdout",
     "output_type": "stream",
     "text": [
      "3\n",
      "6\n",
      "9\n",
      "12\n",
      "30\n",
      "18\n",
      "21\n",
      "24\n",
      "27\n",
      "33\n",
      "36\n",
      "39\n",
      "42\n"
     ]
    }
   ],
   "source": [
    "for item in lista6:\n",
    "    print(item*3)"
   ]
  },
  {
   "cell_type": "code",
   "execution_count": 56,
   "id": "aacfadd7",
   "metadata": {},
   "outputs": [
    {
     "name": "stdout",
     "output_type": "stream",
     "text": [
      "1\n",
      "2\n",
      "3\n",
      "4\n",
      "10\n",
      "6\n",
      "7\n",
      "8\n",
      "9\n",
      "11\n",
      "12\n",
      "13\n",
      "14\n"
     ]
    }
   ],
   "source": [
    "for item in lista6:\n",
    "    print(item)\n",
    "    if item == 5:\n",
    "        print(item*5)"
   ]
  },
  {
   "cell_type": "markdown",
   "id": "7e86fa32",
   "metadata": {},
   "source": [
    "# Ejercicio\n",
    "* Todos los numeros primos de una lista\n",
    "* Todos los multiplos de 2 o de 3"
   ]
  },
  {
   "cell_type": "markdown",
   "id": "8a255d42",
   "metadata": {},
   "source": [
    "# While\n",
    "se usa para repetir un bloque de código continuamente mientras una condición específica se mantenga como Verdadera (True).\n",
    "Funcionamiento Básico\n",
    "El bucle while sigue una lógica simple:\n",
    "Verificación de la Condición: Python verifica la expresión (condición booleana) que sigue a la palabra clave while.\n",
    "Ejecución:\n",
    "- Si la condición es Verdadera, el bloque de código indentado se ejecuta.\n",
    "- Si la condición es Falsa, el bucle termina y el programa continúa con la siguiente línea después del bloque while.\n",
    "- Ciclo: Después de ejecutar el bloque, el programa vuelve al paso 1 para verificar la condición nuevamente."
   ]
  },
  {
   "cell_type": "code",
   "execution_count": 63,
   "id": "ec7edd14",
   "metadata": {},
   "outputs": [
    {
     "name": "stdout",
     "output_type": "stream",
     "text": [
      "while\n",
      "while\n",
      "while\n",
      "while\n",
      "while\n"
     ]
    }
   ],
   "source": [
    "i = 1             # 1. Inicialización: Se establece la variable de control 'i' en 1.\n",
    "                  #    Esta variable se usará para contar las repeticiones del bucle.\n",
    "while i <= 5:     # 2. Condición del Bucle: El código se ejecutará repetidamente mientras 'i' sea menor o igual a 5.\n",
    "    print('while')# 3. Bloque de Ejecución: Imprime la palabra 'while' en la consola. \n",
    "                  #    Esta es la acción que se repite en cada ciclo.\n",
    "    i = i + 1     # 4. Actualización del Contador: Incrementa el valor de 'i' en 1. \n",
    "                  #    Esto es esencial para que 'i' eventualmente llegue a 6, haciendo que la condición \n",
    "                  #    'i <= 5' sea Falsa y el bucle finalice."
   ]
  },
  {
   "cell_type": "markdown",
   "id": "ba70732c",
   "metadata": {},
   "source": [
    "Cuando i es 1, imprime while, pero luego i se convierte en 2, por que suma 1 del contador y asi sucesivamente hasta llegar a 6, que ya no cumple la condicion y deja de ejecutarse e imprime 5 while"
   ]
  },
  {
   "cell_type": "markdown",
   "id": "e1fbaefc",
   "metadata": {},
   "source": [
    "# FUNCIONES\n",
    "Las funciones son bloques de código reutilizables diseñados para realizar una tarea específica. son como \"mini-programas\" o máquinas ⚙️ que toman una entrada, realizan un proceso y, opcionalmente, devuelven un resultado.\n",
    "________________________________________\n",
    "##🔑 Características Clave de las Funciones\n",
    "1.\tReutilización del Código: El propósito principal es evitar escribir el mismo código varias veces. Defines una tarea una vez y luego la llamas (la ejecutas) desde diferentes partes de tu programa.\n",
    "2.\tOrganización y Modularidad: Dividen tu programa grande en partes pequeñas y manejables. Esto hace que el código sea más fácil de leer, entender, depurar y mantener.\n",
    "3.\tAbstracción: Puedes usar una función sin necesidad de saber cómo está implementada internamente, solo necesitas saber qué hace.\n"
   ]
  },
  {
   "cell_type": "code",
   "execution_count": 66,
   "id": "376cd230",
   "metadata": {},
   "outputs": [],
   "source": [
    "def nombre_funcion ():\n",
    "    print('Hola mundo')\n"
   ]
  },
  {
   "cell_type": "code",
   "execution_count": 67,
   "id": "d6875f32",
   "metadata": {},
   "outputs": [
    {
     "name": "stdout",
     "output_type": "stream",
     "text": [
      "Hola mundo\n"
     ]
    }
   ],
   "source": [
    "nombre_funcion()"
   ]
  },
  {
   "cell_type": "markdown",
   "id": "535a1c4c",
   "metadata": {},
   "source": [
    "# Funciones con Parametros"
   ]
  },
  {
   "cell_type": "code",
   "execution_count": 68,
   "id": "c62e96cc",
   "metadata": {},
   "outputs": [],
   "source": [
    "def di_hola(nombre):\n",
    "    print('Hola', nombre)"
   ]
  },
  {
   "cell_type": "code",
   "execution_count": 70,
   "id": "a723dd14",
   "metadata": {},
   "outputs": [
    {
     "name": "stdout",
     "output_type": "stream",
     "text": [
      "Hola Juan\n"
     ]
    }
   ],
   "source": [
    "di_hola('Juan')"
   ]
  },
  {
   "cell_type": "code",
   "execution_count": 71,
   "id": "c3162640",
   "metadata": {},
   "outputs": [
    {
     "name": "stdout",
     "output_type": "stream",
     "text": [
      "Hola\n"
     ]
    }
   ],
   "source": [
    "saluda = lambda: 'Hola'\n",
    "print(saluda())"
   ]
  }
 ],
 "metadata": {
  "kernelspec": {
   "display_name": "Python 3",
   "language": "python",
   "name": "python3"
  },
  "language_info": {
   "codemirror_mode": {
    "name": "ipython",
    "version": 3
   },
   "file_extension": ".py",
   "mimetype": "text/x-python",
   "name": "python",
   "nbconvert_exporter": "python",
   "pygments_lexer": "ipython3",
   "version": "3.12.1"
  }
 },
 "nbformat": 4,
 "nbformat_minor": 5
}
